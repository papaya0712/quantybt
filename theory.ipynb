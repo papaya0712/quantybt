{
 "cells": [
  {
   "cell_type": "markdown",
   "id": "3e8b874b",
   "metadata": {},
   "source": [
    "## Sharpe Ratio\n",
    "\n",
    "We define:\n",
    "\n",
    "$$\n",
    "\\text{Sharpe} = \\frac{\\mathbb{E}[r]}{\\sigma[r]} \\cdot \\sqrt{T}\n",
    "$$\n",
    "\n",
    "Where:\n",
    "\n",
    "- \\( \\mathbb{E}[r] \\): expected return  \n",
    "- \\( \\sigma[r] \\): standard deviation  \n",
    "- \\( T \\): annualization factor\n"
   ]
  }
 ],
 "metadata": {
  "language_info": {
   "name": "python"
  }
 },
 "nbformat": 4,
 "nbformat_minor": 5
}
